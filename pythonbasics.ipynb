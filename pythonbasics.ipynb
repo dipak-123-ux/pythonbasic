{
  "nbformat": 4,
  "nbformat_minor": 0,
  "metadata": {
    "colab": {
      "provenance": []
    },
    "kernelspec": {
      "name": "python3",
      "display_name": "Python 3"
    },
    "language_info": {
      "name": "python"
    }
  },
  "cells": [
    {
      "cell_type": "code",
      "execution_count": null,
      "metadata": {
        "id": "cDlDNmA0IPDL"
      },
      "outputs": [],
      "source": []
    },
    {
      "cell_type": "markdown",
      "source": [
        "# Python basic\n",
        "\n"
      ],
      "metadata": {
        "id": "_NQjsNYIIYrk"
      }
    },
    {
      "cell_type": "markdown",
      "source": [
        "1.What is Python, and why is it popular?\n",
        "  - Python is a versatile, high-level programming language known for its beginner-friendly that emphasizes code readability and conciseness. It's popular because it's easy to learn, has a vast ecosystem of libraries and frameworks, supports numerous applications from web development to machine learning, and benefits from a large, active global community.\n",
        "2.What is an interpreter in Python?\n",
        "   - A Python interpreter is a program that directly executes Python code. When you write a Python script, the interpreter reads the code, analyzes it, and then executes it line by line or in blocks, without requiring a separate compilation step into machine code beforehand.  \n",
        "3.What are pre-defined keywords in Python?\n",
        "   - Predefined keywords in Python are reserved words that possess specific, immutable meanings within the language's syntax. These keywords are fundamental to defining the structure and logic of Python programs and cannot be used as identifiers (e.g., variable names, function names, or class names).\n",
        "4. Can keywords be used as variable names?\n",
        "  - No, keywords cannot be used as variable names in Python. Python keywords are reserved words that have specific meanings and functions within the language's syntax and structure. Attempting to use a keyword as a variable name will result in a SyntaxError.\n",
        "5. What is mutability in Python?\n",
        "   - In Python, mutability refers to whether an object's state or value can be changed after it has been created.\n",
        "6. Why are lists mutable, but tuples are immutable?\n",
        "   - Lists are mutable because they are designed for situations where dynamic modification of a sequence is required. This means elements can be added, removed, or changed in place after the list has been created. This flexibility is achieved by allowing direct manipulation of the list's contents in memory.\n",
        "   Tuples are immutable because they are designed for situations where a fixed, unchangeable sequence is desired. Once a tuple is created, its elements cannot be altered, added, or removed.\n",
        "7. What is the difference between “==” and “is” operators in Python?\n",
        "   - == (Equality Operator):\n",
        "•\tThis operator compares the values of two objects.\n",
        "•\tIt evaluates whether the content or data represented by the objects is the same.\n",
        "     is (Identity Operator):\n",
        "•\tThis operator compares the identity of two objects.\n",
        "•\tIt checks whether two variables refer to the exact same object in memory.\n",
        "8. What are logical operators in Python?\n",
        "   - Logical operators in Python are used to combine conditional statements and evaluate them to return a Boolean value (True or False). They are crucial for controlling program flow and making decisions based on multiple conditions.\n",
        "9. What is type casting in Python?\n",
        "   - Type casting in Python, is the process of manually converting a value from one data type to another using built-in functions.    \n",
        "10. What is the difference between implicit and explicit type casting?\n",
        "   - \tImplicit Type Casting: This type conversion is performed automatically by the Python interpreter during operations involving different data types.\n",
        "        Python attempts to convert a lower-order data type to a higher-order data type\n",
        "    \tExplicit Type Casting: This type conversion is performed explicitly by the programmer using built-in type conversion functions.\n",
        "        Python attempts to convert a higher-order data type to a lower-order data type\n",
        "12. How does the elif statement work?\n",
        "   - The elif statement in Python, short for \"else if,\" allows for the evaluation of multiple conditions in a sequential manner. It is always used in conjunction with an if statement and can be followed by an optional else statement.\n",
        "13. What is the difference between for and while loops?\n",
        "   - The primary difference between for and while loops in Python lies in their intended use cases and how they control iteration\n",
        "for loop: Used when the number of iterations is known or when iterating over a sequence of elements (like a list, tuple, string, or range).\n",
        "while loop: Used when the number of iterations is unknown and depends on a condition being met.\n",
        "14. Describe a scenario where a while loop is more suitable than a for loop.\n",
        "   - A scenario where a while loop is more suitable than a for loop is when the number of iterations is unknown beforehand and depends on a dynamic condition.\n",
        "Example Scenario: User Input Validation\n",
        "Consider a program that needs to repeatedly prompt the user for input until a specific valid input is provided. The program has no way of knowing how many times the user might enter invalid input before providing the correct one.\n",
        "Python\n",
        "user_input = \"\"\n",
        "while user_input != \"quit\":\n",
        "    user_input = input(\"Enter a command (type 'quit' to exit): \")\n",
        "    print(f\"You entered: {user_input}\")\n",
        "The loop continues as long as user_input is not \"quit\". The number of times the loop will execute is entirely dependent on the user's actions and cannot be determined at the start of the program.\n",
        "A for loop would be less appropriate here because it is typically used when iterating over a known sequence (like elements in a list or a range of numbers) where the number of iterations is predetermined. Attempting to force a for loop into this scenario would likely involve creating an artificial counter or a large, arbitrary range, making the code less clear and less efficient.\n",
        "11. What is the purpose of conditional statements in Python?\n",
        "   - The purpose of conditional statements in Python is to enable decision-making within a program, allowing different blocks of code to be executed based on whether specific conditions are true or false. This provides control over the program's flow, making it dynamic and responsive to varying inputs or states.\n",
        "          \n",
        "   \n",
        "           \n",
        "\n"
      ],
      "metadata": {
        "id": "poMv_dG-Iqb6"
      }
    },
    {
      "cell_type": "code",
      "source": [
        "# 1.Write a Python program to print \"Hello, World!y\n",
        "print(\"Hello, World!y\")"
      ],
      "metadata": {
        "colab": {
          "base_uri": "https://localhost:8080/"
        },
        "id": "hF4b0J9bfDR5",
        "outputId": "b626d5f9-9e6e-473a-db23-92b991d75334"
      },
      "execution_count": 1,
      "outputs": [
        {
          "output_type": "stream",
          "name": "stdout",
          "text": [
            "Hello, World!y\n"
          ]
        }
      ]
    },
    {
      "cell_type": "code",
      "source": [
        "# 2.Write a Python program that displays your name and age.\n",
        "print(\"my name: Dipak Kumar Gola\")\n",
        "print(\"Age: 35\")"
      ],
      "metadata": {
        "colab": {
          "base_uri": "https://localhost:8080/"
        },
        "id": "eVuMa-iNfokY",
        "outputId": "ca75f09a-b01e-461b-8549-79c3a3f754a6"
      },
      "execution_count": 2,
      "outputs": [
        {
          "output_type": "stream",
          "name": "stdout",
          "text": [
            "my name: Dipak Kumar Gola\n",
            "Age: 35\n"
          ]
        }
      ]
    },
    {
      "cell_type": "code",
      "source": [
        "# 3.Write code to print all the pre-defined keywords in Python using the keyword library.\n",
        "help('keywords')"
      ],
      "metadata": {
        "colab": {
          "base_uri": "https://localhost:8080/"
        },
        "id": "72fXIWUDgKAu",
        "outputId": "eaea44f5-27b5-4657-da53-5fa1a26b8a26"
      },
      "execution_count": 3,
      "outputs": [
        {
          "output_type": "stream",
          "name": "stdout",
          "text": [
            "\n",
            "Here is a list of the Python keywords.  Enter any keyword to get more help.\n",
            "\n",
            "False               class               from                or\n",
            "None                continue            global              pass\n",
            "True                def                 if                  raise\n",
            "and                 del                 import              return\n",
            "as                  elif                in                  try\n",
            "assert              else                is                  while\n",
            "async               except              lambda              with\n",
            "await               finally             nonlocal            yield\n",
            "break               for                 not                 \n",
            "\n"
          ]
        }
      ]
    },
    {
      "cell_type": "code",
      "source": [
        "# 4.Write a program that checks if a given word is a Python keyword.\n",
        "import keyword\n",
        "def check_word(w):\n",
        "  if keyword.iskeyword(w):\n",
        "    return f\"'{w}' is a keyword\"\n",
        "  else:\n",
        "    return f\"'{w} is not a keyword\"\n",
        "w1=\"for\"\n",
        "w2=\"samual\"\n",
        "print(check_word(w1))\n",
        "print(check_word(w2))"
      ],
      "metadata": {
        "colab": {
          "base_uri": "https://localhost:8080/"
        },
        "id": "-zqQD-qbh_CS",
        "outputId": "0f14da40-ffea-4283-81e8-6ea858befc34"
      },
      "execution_count": 4,
      "outputs": [
        {
          "output_type": "stream",
          "name": "stdout",
          "text": [
            "'for' is a keyword\n",
            "'samual is not a keyword\n"
          ]
        }
      ]
    },
    {
      "cell_type": "code",
      "source": [
        "# 5. Create a list and tuple in Python, and demonstrate how attempting to change an element works differently for each.\n",
        "shop_list=[\"brinjal\",\"Apple\",2,3.4,True]\n",
        "shop_list\n"
      ],
      "metadata": {
        "colab": {
          "base_uri": "https://localhost:8080/"
        },
        "id": "dRw4x2pcl8n9",
        "outputId": "253ed4d6-3075-41a4-9f27-a5a1e565e9aa"
      },
      "execution_count": 5,
      "outputs": [
        {
          "output_type": "execute_result",
          "data": {
            "text/plain": [
              "['brinjal', 'Apple', 2, 3.4, True]"
            ]
          },
          "metadata": {},
          "execution_count": 5
        }
      ]
    },
    {
      "cell_type": "code",
      "source": [
        "# change list element brinjal with potato\n",
        "shop_list=[\"brinjal\",\"Apple\",2,3.4,True]\n",
        "shop_list[0]=\"Potato\"\n",
        "shop_list\n"
      ],
      "metadata": {
        "colab": {
          "base_uri": "https://localhost:8080/"
        },
        "id": "zrAWzYAOv686",
        "outputId": "272f6346-c10b-46d4-8619-d03bc6654413"
      },
      "execution_count": 6,
      "outputs": [
        {
          "output_type": "execute_result",
          "data": {
            "text/plain": [
              "['Potato', 'Apple', 2, 3.4, True]"
            ]
          },
          "metadata": {},
          "execution_count": 6
        }
      ]
    },
    {
      "cell_type": "code",
      "source": [
        "# tuple is immutable\n",
        "emp_name=(\"sam\",\"sam1\",\"Vijay\",\"Sanjay\")\n",
        "emp_name"
      ],
      "metadata": {
        "colab": {
          "base_uri": "https://localhost:8080/"
        },
        "id": "iIOGtUHsw0nD",
        "outputId": "e0832ac2-f6ba-4d10-ce56-55044aabcf51"
      },
      "execution_count": 8,
      "outputs": [
        {
          "output_type": "execute_result",
          "data": {
            "text/plain": [
              "('sam', 'sam1', 'Vijay', 'Sanjay')"
            ]
          },
          "metadata": {},
          "execution_count": 8
        }
      ]
    },
    {
      "cell_type": "code",
      "source": [
        "#to change vijay name with Rahul in tuple, it will throw an error because tupple is immutable data structure\n",
        "emp_name=(\"sam\",\"sam1\",\"Vijay\",\"Sanjay\")\n",
        "emp_name[2]=\"Rahul\""
      ],
      "metadata": {
        "colab": {
          "base_uri": "https://localhost:8080/",
          "height": 176
        },
        "id": "qbASMP2txKZT",
        "outputId": "25ee56a2-4031-44b8-ba71-c7049948aaec"
      },
      "execution_count": 9,
      "outputs": [
        {
          "output_type": "error",
          "ename": "TypeError",
          "evalue": "'tuple' object does not support item assignment",
          "traceback": [
            "\u001b[0;31m---------------------------------------------------------------------------\u001b[0m",
            "\u001b[0;31mTypeError\u001b[0m                                 Traceback (most recent call last)",
            "\u001b[0;32m/tmp/ipython-input-4100210533.py\u001b[0m in \u001b[0;36m<cell line: 0>\u001b[0;34m()\u001b[0m\n\u001b[1;32m      1\u001b[0m \u001b[0;31m#to change vijay name with Rahul in tuple, it will throw an error\u001b[0m\u001b[0;34m\u001b[0m\u001b[0;34m\u001b[0m\u001b[0m\n\u001b[1;32m      2\u001b[0m \u001b[0memp_name\u001b[0m\u001b[0;34m=\u001b[0m\u001b[0;34m(\u001b[0m\u001b[0;34m\"sam\"\u001b[0m\u001b[0;34m,\u001b[0m\u001b[0;34m\"sam1\"\u001b[0m\u001b[0;34m,\u001b[0m\u001b[0;34m\"Vijay\"\u001b[0m\u001b[0;34m,\u001b[0m\u001b[0;34m\"Sanjay\"\u001b[0m\u001b[0;34m)\u001b[0m\u001b[0;34m\u001b[0m\u001b[0;34m\u001b[0m\u001b[0m\n\u001b[0;32m----> 3\u001b[0;31m \u001b[0memp_name\u001b[0m\u001b[0;34m[\u001b[0m\u001b[0;36m2\u001b[0m\u001b[0;34m]\u001b[0m\u001b[0;34m=\u001b[0m\u001b[0;34m\"Rahul\"\u001b[0m\u001b[0;34m\u001b[0m\u001b[0;34m\u001b[0m\u001b[0m\n\u001b[0m",
            "\u001b[0;31mTypeError\u001b[0m: 'tuple' object does not support item assignment"
          ]
        }
      ]
    },
    {
      "cell_type": "code",
      "source": [
        "# 6. Write a function to demonstrate the behavior of mutable and immutable arguments.\n",
        "def change(m_arg,imm_arg):\n",
        "  m_arg.append(4)\n",
        "  print(f\"inside function modified m_arg: {m_arg}\")\n",
        "  imm_arg=imm_arg+1\n",
        "  print(f\"inside function modified imm_arg:{imm_arg}\")\n",
        "my_list=[1,2,3]  #mutable object\n",
        "my_int=10 #immutable object\n",
        "change(my_list,my_int)\n",
        "print(f\"\\noutside function after call:my_list= {my_list}\")\n",
        "print(f\"\\noutside function after call:my_int= {my_int}\")"
      ],
      "metadata": {
        "colab": {
          "base_uri": "https://localhost:8080/"
        },
        "id": "VtnkUmvux7jt",
        "outputId": "6a51d688-ffc5-4028-ecb8-f5d276b7cf73"
      },
      "execution_count": 11,
      "outputs": [
        {
          "output_type": "stream",
          "name": "stdout",
          "text": [
            "inside function modified m_arg: [1, 2, 3, 4]\n",
            "inside function modified imm_arg:11\n",
            "\n",
            "outside function after call:my_list= [1, 2, 3, 4]\n",
            "\n",
            "outside function after call:my_int= 10\n"
          ]
        }
      ]
    },
    {
      "cell_type": "code",
      "source": [
        "# 7. Write a program that performs basic arithmetic operations on two user-input numbers.\n",
        "a=int(input(\"enter 1st no.\"))\n",
        "b=int(input(\"enter 2nd no.\"))\n",
        "c=a+b\n",
        "d=a-b\n",
        "e=a*b\n",
        "f=a/b\n",
        "print(\"sum is:\",c)\n",
        "print(\"subtract is:\",d)\n",
        "print(\"product is:\",e)\n",
        "print(\"divide is:\",f)"
      ],
      "metadata": {
        "colab": {
          "base_uri": "https://localhost:8080/"
        },
        "id": "3HBLqoHf3bjA",
        "outputId": "1745f74c-0595-4ad0-a841-1a4e1b3abf91"
      },
      "execution_count": 12,
      "outputs": [
        {
          "output_type": "stream",
          "name": "stdout",
          "text": [
            "enter 1st no.20\n",
            "enter 2nd no.5\n",
            "sum is: 25\n",
            "subtract is: 15\n",
            "product is: 100\n",
            "divide is: 4.0\n"
          ]
        }
      ]
    },
    {
      "cell_type": "code",
      "source": [
        "# 8. Write a program to demonstrate the use of logical operators.\n",
        "a=int(input(\"enter 1st no.\"))\n",
        "b=int(input(\"enter 2nd no.\"))\n",
        "c=int(input(\"enter 2nd no.\"))\n",
        "if((a>b) & (a>c)):\n",
        "  print(\"a is largest\")\n",
        "elif((b>a) & (b>c)):\n",
        "  print(\"b is largest\")\n",
        "elif((c>a) & (b<c)):\n",
        "  print(\"c is largest\")\n",
        "else:\n",
        "  print(\"all are equals\")\n",
        "\n"
      ],
      "metadata": {
        "colab": {
          "base_uri": "https://localhost:8080/"
        },
        "id": "omqImylO4b6N",
        "outputId": "2be1ab01-1456-4ca3-8b79-56b2a8416f25"
      },
      "execution_count": 13,
      "outputs": [
        {
          "output_type": "stream",
          "name": "stdout",
          "text": [
            "enter 1st no.10\n",
            "enter 2nd no.12\n",
            "enter 2nd no.18\n",
            "c is largest\n"
          ]
        }
      ]
    },
    {
      "cell_type": "code",
      "source": [
        "# 9.Write a Python program to convert user input from string to integer, float, and boolean types.\n",
        "s=input(\"enter value\")\n",
        "c_int=int(s)\n",
        "print(f\"convert to integer:{c_int}(Type:{type(c_int)})\")\n",
        "c_float=float(s)\n",
        "print(f\"convert to float:{c_float}(Type:{type(c_float)})\")\n",
        "c_bool=False\n",
        "c_bool=bool(s)\n",
        "print(f\"convert to Boolean:{c_bool}(Type:{type(c_bool)})\")"
      ],
      "metadata": {
        "colab": {
          "base_uri": "https://localhost:8080/"
        },
        "id": "pH4v1IUH6ua5",
        "outputId": "a0e50dbb-3b8a-47c4-bfed-70b1bb5edf9b"
      },
      "execution_count": 14,
      "outputs": [
        {
          "output_type": "stream",
          "name": "stdout",
          "text": [
            "enter value123\n",
            "convert to integer:123(Type:<class 'int'>)\n",
            "convert to float:123.0(Type:<class 'float'>)\n",
            "convert to Boolean:True(Type:<class 'bool'>)\n"
          ]
        }
      ]
    },
    {
      "cell_type": "code",
      "source": [
        "# 10. Write code to demonstrate type casting with list elements.\n",
        "My_list=[\"10\",20.5,\"True\",42]\n",
        "My_list[0]=int(My_list[0])\n",
        "My_list[1]=int(My_list[1])\n",
        "My_list[2]=bool(My_list[2])\n",
        "My_list[3]=str(My_list[3])\n",
        "print(My_list)"
      ],
      "metadata": {
        "colab": {
          "base_uri": "https://localhost:8080/"
        },
        "id": "c2dhyVLyBCML",
        "outputId": "eccfed81-20e8-4ac1-d1df-2312fad7ec38"
      },
      "execution_count": 15,
      "outputs": [
        {
          "output_type": "stream",
          "name": "stdout",
          "text": [
            "[10, 20, True, '42']\n"
          ]
        }
      ]
    },
    {
      "cell_type": "code",
      "source": [
        "# 11. Write a program that checks if a number is positive, negative, or zero.\n",
        "\n",
        "n=int(input(\"enter a no.\"))\n",
        "if n>0:\n",
        "  print(\"positive no,\")\n",
        "elif n<0:\n",
        "  print(\"negative no.\")\n",
        "else:\n",
        "  print(\"zero\")"
      ],
      "metadata": {
        "colab": {
          "base_uri": "https://localhost:8080/"
        },
        "id": "GJT2R9EHC6a7",
        "outputId": "85295624-28ce-4cf5-f1aa-8d80a9d88a3f"
      },
      "execution_count": 17,
      "outputs": [
        {
          "output_type": "stream",
          "name": "stdout",
          "text": [
            "enter a no.-25\n",
            "negative no.\n"
          ]
        }
      ]
    },
    {
      "cell_type": "code",
      "source": [
        "# 12.Write a for loop to print numbers from 1 to 10.\n",
        "for i in range(1,11):\n",
        "  print(i)"
      ],
      "metadata": {
        "colab": {
          "base_uri": "https://localhost:8080/"
        },
        "id": "77X-I9aSDmX8",
        "outputId": "d9a9e014-f70e-482f-f6fd-5f82062e6034"
      },
      "execution_count": 19,
      "outputs": [
        {
          "output_type": "stream",
          "name": "stdout",
          "text": [
            "1\n",
            "2\n",
            "3\n",
            "4\n",
            "5\n",
            "6\n",
            "7\n",
            "8\n",
            "9\n",
            "10\n"
          ]
        }
      ]
    },
    {
      "cell_type": "code",
      "source": [
        "# 13.Write a Python program to find the sum of all even numbers between 1 and 50.\n",
        "s=0\n",
        "for i in range(1,51):\n",
        "  if i%2==0:\n",
        "    s=s+i\n",
        "print(\"even no. sum is:\",s)\n",
        "\n"
      ],
      "metadata": {
        "colab": {
          "base_uri": "https://localhost:8080/"
        },
        "id": "OMVKvsCeD9_o",
        "outputId": "158ad0a6-1b4f-44c9-a1f2-6b3782b653c7"
      },
      "execution_count": 20,
      "outputs": [
        {
          "output_type": "stream",
          "name": "stdout",
          "text": [
            "even no. sum is: 650\n"
          ]
        }
      ]
    },
    {
      "cell_type": "code",
      "source": [
        "# 14. Write a program to reverse a string using a while loop.\n",
        "s=\"python\"\n",
        "l=len(s)\n",
        "r=\"\"\n",
        "i=l-1\n",
        "while i>=0:\n",
        "  r=r+s[i]\n",
        "  i=i-1\n",
        "\n",
        "print(\"original string:\",s)\n",
        "print(\"reverse string:\",r)"
      ],
      "metadata": {
        "colab": {
          "base_uri": "https://localhost:8080/"
        },
        "id": "NqT0gNIWE11G",
        "outputId": "25ffc981-3e4b-4219-8f43-c5110a3e0d6a"
      },
      "execution_count": 21,
      "outputs": [
        {
          "output_type": "stream",
          "name": "stdout",
          "text": [
            "original string: python\n",
            "reverse string: nohtyp\n"
          ]
        }
      ]
    },
    {
      "cell_type": "code",
      "source": [
        "# 15. Write a Python program to calculate the factorial of a number provided by the user using a while loop.\n",
        "n=int(input(\"enter a no.\"))\n",
        "f=1\n",
        "i=1\n",
        "while i<=n:\n",
        "  f=f*i\n",
        "  i=i+1\n",
        "print(\"factorial is:\",f)"
      ],
      "metadata": {
        "colab": {
          "base_uri": "https://localhost:8080/"
        },
        "id": "MDqMNlIYHOIk",
        "outputId": "49975da9-2832-4e36-eba9-4d47087dfc05"
      },
      "execution_count": 23,
      "outputs": [
        {
          "output_type": "stream",
          "name": "stdout",
          "text": [
            "enter a no.5\n",
            "factorial is: 120\n"
          ]
        }
      ]
    }
  ]
}